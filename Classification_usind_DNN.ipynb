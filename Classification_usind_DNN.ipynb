{
  "cells": [
    {
      "cell_type": "markdown",
      "metadata": {
        "id": "s_4WxBXQjKV9"
      },
      "source": [
        "# Problem Statement\n",
        "\n",
        "**Classification using Deep neural network** (Any One from the following)\n",
        "1. Multiclass classification using Deep Neural Networks: Example: Use the OCR letter recognition dataset https://archive.ics.uci.edu/ml/datasets/letter+recognition\n",
        "2. Binary classification using Deep Neural Networks Example: Classify movie reviews into positive\" reviews and \"negative\" reviews, just based on the text content of the reviews.\n",
        "Use IMDB dataset."
      ]
    },
    {
      "cell_type": "markdown",
      "metadata": {
        "id": "QXGj4xemjKV_"
      },
      "source": [
        "# Classifying movie reviews: a binary classification example\n",
        "\n",
        "Design a neural network to perform two-class classification or _binary classification_ , of reviews form IMDB movie reviews dataset, to determine wether the reviews are positive or negative. We will use the Python library Keras to perform the classification"
      ]
    },
    {
      "cell_type": "markdown",
      "metadata": {
        "id": "ypqP2l_KjKV_"
      },
      "source": [
        "## The IMDB Dataset\n",
        "\n",
        "The IMDB dataset is a set of 50,000 highly polarized reviews from the Internet Movie Database. They are split into 25000 reviews each for training and testing. Each set contains equal number (50%) of positive and negative reviews.\n",
        "\n",
        "The IMDB dataset comes packaged with Keras. It consists of reviews and their corresponding labels (0 for _negative_ and 1 for _positive_ review). The reviews are a sequence of words. They come preprocessed as sequence of integers, where each integer stands for a specific word in the dictionary.\n",
        "\n",
        "The IMDB datset can be loaded directly from Keras and will usually download about 80 MB on your machine."
      ]
    },
    {
      "cell_type": "markdown",
      "metadata": {
        "id": "-tBVaXojjKWA"
      },
      "source": [
        "## Import Packages"
      ]
    },
    {
      "cell_type": "code",
      "execution_count": null,
      "metadata": {
        "id": "zYdzgWrIjKWA"
      },
      "outputs": [],
      "source": [
        "import numpy as np\n",
        "from keras.datasets import imdb\n",
        "from keras import models\n",
        "from keras import layers\n",
        "from keras import optimizers\n",
        "from keras import losses\n",
        "from keras import metrics\n",
        "\n",
        "\n",
        "import matplotlib.pyplot as plt\n",
        "%matplotlib inline"
      ]
    },
    {
      "cell_type": "markdown",
      "metadata": {
        "id": "AyUvv9mGjKWC"
      },
      "source": [
        "## Loading the Data"
      ]
    },
    {
      "cell_type": "code",
      "execution_count": null,
      "metadata": {
        "colab": {
          "base_uri": "https://localhost:8080/"
        },
        "id": "AVKSdKRcjKWC",
        "outputId": "1f2d9bce-b2f8-4850-8ae1-dc9cbcb5de13"
      },
      "outputs": [
        {
          "output_type": "stream",
          "name": "stdout",
          "text": [
            "Downloading data from https://storage.googleapis.com/tensorflow/tf-keras-datasets/imdb.npz\n",
            "17464789/17464789 [==============================] - 0s 0us/step\n"
          ]
        }
      ],
      "source": [
        "# Load the data, keeping only 10,000 of the most frequently occuring words\n",
        "(train_data, train_labels), (test_data, test_labels) = imdb.load_data(num_words = 10000)"
      ]
    },
    {
      "cell_type": "code",
      "execution_count": null,
      "metadata": {
        "colab": {
          "base_uri": "https://localhost:8080/"
        },
        "id": "Tyq6Fiu6jKWC",
        "outputId": "5c38cc21-3dc7-47be-ffaf-61af841b540f"
      },
      "outputs": [
        {
          "output_type": "execute_result",
          "data": {
            "text/plain": [
              "array([list([1, 14, 22, 16, 43, 530, 973, 1622, 1385, 65, 458, 4468, 66, 3941, 4, 173, 36, 256, 5, 25, 100, 43, 838, 112, 50, 670, 2, 9, 35, 480, 284, 5, 150, 4, 172, 112, 167, 2, 336, 385, 39, 4, 172, 4536, 1111, 17, 546, 38, 13, 447, 4, 192, 50, 16, 6, 147, 2025, 19, 14, 22, 4, 1920, 4613, 469, 4, 22, 71, 87, 12, 16, 43, 530, 38, 76, 15, 13, 1247, 4, 22, 17, 515, 17, 12, 16, 626, 18, 2, 5, 62, 386, 12, 8, 316, 8, 106, 5, 4, 2223, 5244, 16, 480, 66, 3785, 33, 4, 130, 12, 16, 38, 619, 5, 25, 124, 51, 36, 135, 48, 25, 1415, 33, 6, 22, 12, 215, 28, 77, 52, 5, 14, 407, 16, 82, 2, 8, 4, 107, 117, 5952, 15, 256, 4, 2, 7, 3766, 5, 723, 36, 71, 43, 530, 476, 26, 400, 317, 46, 7, 4, 2, 1029, 13, 104, 88, 4, 381, 15, 297, 98, 32, 2071, 56, 26, 141, 6, 194, 7486, 18, 4, 226, 22, 21, 134, 476, 26, 480, 5, 144, 30, 5535, 18, 51, 36, 28, 224, 92, 25, 104, 4, 226, 65, 16, 38, 1334, 88, 12, 16, 283, 5, 16, 4472, 113, 103, 32, 15, 16, 5345, 19, 178, 32]),\n",
              "       list([1, 194, 1153, 194, 8255, 78, 228, 5, 6, 1463, 4369, 5012, 134, 26, 4, 715, 8, 118, 1634, 14, 394, 20, 13, 119, 954, 189, 102, 5, 207, 110, 3103, 21, 14, 69, 188, 8, 30, 23, 7, 4, 249, 126, 93, 4, 114, 9, 2300, 1523, 5, 647, 4, 116, 9, 35, 8163, 4, 229, 9, 340, 1322, 4, 118, 9, 4, 130, 4901, 19, 4, 1002, 5, 89, 29, 952, 46, 37, 4, 455, 9, 45, 43, 38, 1543, 1905, 398, 4, 1649, 26, 6853, 5, 163, 11, 3215, 2, 4, 1153, 9, 194, 775, 7, 8255, 2, 349, 2637, 148, 605, 2, 8003, 15, 123, 125, 68, 2, 6853, 15, 349, 165, 4362, 98, 5, 4, 228, 9, 43, 2, 1157, 15, 299, 120, 5, 120, 174, 11, 220, 175, 136, 50, 9, 4373, 228, 8255, 5, 2, 656, 245, 2350, 5, 4, 9837, 131, 152, 491, 18, 2, 32, 7464, 1212, 14, 9, 6, 371, 78, 22, 625, 64, 1382, 9, 8, 168, 145, 23, 4, 1690, 15, 16, 4, 1355, 5, 28, 6, 52, 154, 462, 33, 89, 78, 285, 16, 145, 95])],\n",
              "      dtype=object)"
            ]
          },
          "metadata": {},
          "execution_count": 3
        }
      ],
      "source": [
        "train_data[:2]"
      ]
    },
    {
      "cell_type": "code",
      "execution_count": null,
      "metadata": {
        "colab": {
          "base_uri": "https://localhost:8080/"
        },
        "id": "54pHMYL6jKWD",
        "outputId": "5e16e8f1-5912-4f39-d22d-c20749017371"
      },
      "outputs": [
        {
          "output_type": "execute_result",
          "data": {
            "text/plain": [
              "array([1, 0, 0, ..., 0, 1, 0])"
            ]
          },
          "metadata": {},
          "execution_count": 4
        }
      ],
      "source": [
        "train_labels"
      ]
    },
    {
      "cell_type": "code",
      "execution_count": null,
      "metadata": {
        "scrolled": true,
        "colab": {
          "base_uri": "https://localhost:8080/"
        },
        "id": "hG03qB5njKWD",
        "outputId": "6866b5ee-032b-40a7-a908-bdf09141f403"
      },
      "outputs": [
        {
          "output_type": "execute_result",
          "data": {
            "text/plain": [
              "1"
            ]
          },
          "metadata": {},
          "execution_count": 5
        }
      ],
      "source": [
        "# Check the first label\n",
        "train_labels[0]"
      ]
    },
    {
      "cell_type": "code",
      "execution_count": null,
      "metadata": {
        "colab": {
          "base_uri": "https://localhost:8080/"
        },
        "id": "NRJiPoGkjKWD",
        "outputId": "a12bc265-693a-45aa-bf55-27305333f668"
      },
      "outputs": [
        {
          "output_type": "stream",
          "name": "stdout",
          "text": [
            "<class 'list'>\n"
          ]
        },
        {
          "output_type": "execute_result",
          "data": {
            "text/plain": [
              "9999"
            ]
          },
          "metadata": {},
          "execution_count": 6
        }
      ],
      "source": [
        "# Since we restricted ourselves to the top 10000 frequent words, no word index should exceed 10000\n",
        "# we'll verify this below\n",
        "\n",
        "# Here is a list of maximum indexes in every review --- we search the maximum index in this list of max indexes\n",
        "print(type([max(sequence) for sequence in train_data]))\n",
        "\n",
        "# Find the maximum of all max indexes\n",
        "max([max(sequence) for sequence in train_data])"
      ]
    },
    {
      "cell_type": "code",
      "execution_count": null,
      "metadata": {
        "colab": {
          "base_uri": "https://localhost:8080/",
          "height": 174
        },
        "id": "PUvYUObDjKWE",
        "outputId": "bacf0aa8-5145-4442-a0c2-0f75272e86c8"
      },
      "outputs": [
        {
          "output_type": "stream",
          "name": "stdout",
          "text": [
            "Downloading data from https://storage.googleapis.com/tensorflow/tf-keras-datasets/imdb_word_index.json\n",
            "1641221/1641221 [==============================] - 0s 0us/step\n"
          ]
        },
        {
          "output_type": "execute_result",
          "data": {
            "text/plain": [
              "\"? this film was just brilliant casting location scenery story direction everyone's really suited the part they played and you could just imagine being there robert ? is an amazing actor and now the same being director ? father came from the same scottish island as myself so i loved the fact there was a real connection with this film the witty remarks throughout the film were great it was just brilliant so much that i bought the film as soon as it was released for ? and would recommend it to everyone to watch and the fly fishing was amazing really cried at the end it was so sad and you know what they say if you cry at a film it must have been good and this definitely was also ? to the two little boy's that played the ? of norman and paul they were just brilliant children are often left out of the ? list i think because the stars that play them all grown up are such a big profile for the whole film but these children are amazing and should be praised for what they have done don't you think the whole story was so lovely because it was true and was someone's life after all that was shared with us all\""
            ],
            "application/vnd.google.colaboratory.intrinsic+json": {
              "type": "string"
            }
          },
          "metadata": {},
          "execution_count": 7
        }
      ],
      "source": [
        "# Let's quickly decode a review\n",
        "\n",
        "# step 1: load the dictionary mappings from word to integer index\n",
        "word_index = imdb.get_word_index()\n",
        "\n",
        "# step 2: reverse word index to map integer indexes to their respective words\n",
        "reverse_word_index = dict([(value, key) for (key, value) in word_index.items()])\n",
        "\n",
        "# Step 3: decode the review, mapping integer indices to words\n",
        "#\n",
        "# indices are off by 3 because 0, 1, and 2 are reserverd indices for \"padding\", \"Start of sequence\" and \"unknown\"\n",
        "decoded_review = ' '.join([reverse_word_index.get(i-3, '?') for i in train_data[0]])\n",
        "\n",
        "decoded_review"
      ]
    },
    {
      "cell_type": "code",
      "execution_count": null,
      "metadata": {
        "colab": {
          "base_uri": "https://localhost:8080/"
        },
        "id": "QrFNtFGEjKWE",
        "outputId": "fa489626-3afa-4b9b-f851-a6d50fdc2bfb"
      },
      "outputs": [
        {
          "output_type": "execute_result",
          "data": {
            "text/plain": [
              "88584"
            ]
          },
          "metadata": {},
          "execution_count": 8
        }
      ],
      "source": [
        "len(reverse_word_index)"
      ]
    },
    {
      "cell_type": "markdown",
      "metadata": {
        "id": "Hoz-XLsXjKWF"
      },
      "source": [
        "## Preparing the data"
      ]
    },
    {
      "cell_type": "markdown",
      "metadata": {
        "id": "4WblqavWjKWF"
      },
      "source": [
        "### Vectorize input data"
      ]
    },
    {
      "cell_type": "markdown",
      "metadata": {
        "id": "PKMhqo8QjKWF"
      },
      "source": [
        "We cannot feed list of integers into our deep neural network. We will need to convert them into tensors.\n",
        "\n",
        "To prepare our data we will One-hot Encode our lists and turn them into vectors of 0's and 1's. This would blow up all of our sequences into 10,000 dimensional vectors containing 1 at all indices corresponding to integers present in that sequence. This vector will have the element 0 at all indices which are not present in integer sequence.\n",
        "\n",
        "Simply put, the 10,000 dimensional vector corresponding to each review, will have\n",
        "\n",
        "* Every index corresponding to a word\n",
        "* Every index vith value 1, is a word which is present in the review and is denoted by its integer counterpart\n",
        "* Every index containing 0, is a word not present in the review\n",
        "\n",
        "We will vectorize our data manually for maximum clarity. This will result in a tensors of shape (25000, 10000)."
      ]
    },
    {
      "cell_type": "code",
      "execution_count": null,
      "metadata": {
        "id": "di2LSQ8OjKWF"
      },
      "outputs": [],
      "source": [
        "def vectorize_sequences(sequences, dimension=10000):\n",
        "    results = np.zeros((len(sequences), dimension))    # Creates an all zero matrix of shape (len(sequences),10K)\n",
        "    for i,sequence in enumerate(sequences):\n",
        "        results[i,sequence] = 1                        # Sets specific indices of results[i] to 1s\n",
        "    return results\n",
        "\n",
        "# Vectorize training Data\n",
        "X_train = vectorize_sequences(train_data)\n",
        "\n",
        "# Vectorize testing Data\n",
        "X_test = vectorize_sequences(test_data)"
      ]
    },
    {
      "cell_type": "code",
      "execution_count": null,
      "metadata": {
        "colab": {
          "base_uri": "https://localhost:8080/"
        },
        "id": "UgPCLbMHjKWG",
        "outputId": "684ba03b-887f-4c2e-8ca1-46cb2e080efe"
      },
      "outputs": [
        {
          "output_type": "execute_result",
          "data": {
            "text/plain": [
              "array([0., 1., 1., ..., 0., 0., 0.])"
            ]
          },
          "metadata": {},
          "execution_count": 10
        }
      ],
      "source": [
        "X_train[0]"
      ]
    },
    {
      "cell_type": "code",
      "execution_count": null,
      "metadata": {
        "colab": {
          "base_uri": "https://localhost:8080/"
        },
        "id": "YCRqjnxTjKWG",
        "outputId": "3e806284-5496-473a-e97a-e8e63b538abe"
      },
      "outputs": [
        {
          "output_type": "execute_result",
          "data": {
            "text/plain": [
              "(25000, 10000)"
            ]
          },
          "metadata": {},
          "execution_count": 11
        }
      ],
      "source": [
        "X_train.shape"
      ]
    },
    {
      "cell_type": "markdown",
      "metadata": {
        "id": "VJWrdkWwjKWG"
      },
      "source": [
        "### Vectorize labels"
      ]
    },
    {
      "cell_type": "code",
      "execution_count": null,
      "metadata": {
        "id": "05PlhUsPjKWH"
      },
      "outputs": [],
      "source": [
        "y_train = np.asarray(train_labels).astype('float32')\n",
        "y_test  = np.asarray(test_labels).astype('float32')"
      ]
    },
    {
      "cell_type": "markdown",
      "metadata": {
        "id": "HELG1Rr7jKWH"
      },
      "source": [
        "## Building the network"
      ]
    },
    {
      "cell_type": "markdown",
      "metadata": {
        "id": "lvXN-N-ZjKWH"
      },
      "source": [
        "Our input data is vectors which needs to be mapped to scaler labels (0s and 1s). This is one of the easiest setups and a simple stack of _fully-connected_, _Dense_ layers with _relu_ activation perform quite well.\n",
        "\n",
        "### Hidden layers\n",
        "\n",
        "In this network we will leverage _hidden layers_. we will define our layers as such.\n",
        "\n",
        "```python\n",
        "Dense(16, activation='relu')\n",
        "```\n",
        "The argument being passed to each `Dense` layer, `(16)` is the number of _hidden units_ of a layer.\n",
        "\n",
        "The output from a _Dense_ layer with _relu_ activation is genrated after a chain of _tensor_ operations. This chain of operations is implemented as\n",
        "\n",
        "    output = relu(dot(W, input) + b)\n",
        "Where, `W` is the _Weight matrix_ and `b` is the bias (tensor).\n",
        "\n",
        "Having 16 hidden units means that the matrix W will be of the shape ( _input_Dimension_ , _16_ ). In this case where the dimension of input vector is 10,000; the shape of Weight matrix will be (10000, 16). If you were to represent this network as graph you would see 16 neurons in this hidden layer.\n",
        "\n",
        "To put in in laymans terms, there will be 16 balls in this layer.\n",
        "\n",
        "Each of these balls, or _hidden units_ is a dimension in the representation space of the layer. Representaion space is the set of all viable representaions for the data. Every _hidden layer_ composed of its _hidden units_ aims to learns one specific transformation of the data, or one feature/pattern from the data.\n",
        "\n",
        "Hidden layers, simply put, are layers of mathematical functions each designed to produce an output specific to an intended result. Hidden layers allow for the function of a neural network to be broken down into specific transformations of the data. Each hidden layer function is specialized to produce a defined output.For example, a hidden layer functions that are used to identify human eyes and ears may be used in conjunction by subsequent layers to identify faces in images. While the functions to identify eyes alone are not enough to independently recognize objects, they can function jointly within a neural network.\n",
        "\n"
      ]
    },
    {
      "cell_type": "markdown",
      "metadata": {
        "id": "TgcvZy1ejKWH"
      },
      "source": [
        "### Model Architecture\n",
        "\n",
        "1. For our model we will use\n",
        "   * two intermediate layers with 16 hidden units each\n",
        "   * Third layer that will output the scalar sentiment prediction\n",
        "   \n",
        "\n",
        "2. Intermediate layers will use _relu_ activation function. _relu_ or Rectified linear unit function will zero out the negative values.\n",
        "\n",
        "\n",
        "3. Sigmoid activation for the final layer or _output layer_. A sigmoid function \"_squashes_\" arbitary values into the [0,1] range.\n",
        "\n",
        "\n",
        "There are formal principles that guide our appraoch in selecting the architectural attributes of a model. These are not covered in this case study."
      ]
    },
    {
      "cell_type": "markdown",
      "metadata": {
        "id": "tGR2K1mHjKWH"
      },
      "source": [
        "### Model defination"
      ]
    },
    {
      "cell_type": "code",
      "execution_count": null,
      "metadata": {
        "id": "LKZprfH7jKWI"
      },
      "outputs": [],
      "source": [
        "model = models.Sequential()\n",
        "model.add(layers.Dense(16, activation='relu', input_shape=(10000,)))\n",
        "model.add(layers.Dense(16, activation='relu'))\n",
        "model.add(layers.Dense(1, activation='sigmoid'))"
      ]
    },
    {
      "cell_type": "markdown",
      "metadata": {
        "id": "gcggTf5SjKWI"
      },
      "source": [
        "## Compiling the model"
      ]
    },
    {
      "cell_type": "markdown",
      "metadata": {
        "id": "-mqA-IJCjKWI"
      },
      "source": [
        "In this step we will choose an _optimizer_, a _loss function_, and metrics to observe. We will go forward with\n",
        "* _binary_crossentropy_ loss function, commonlu used for Binary Classification\n",
        "* _rmsprop_ optimizer and\n",
        "* _accuracy_ as a measure of performance\n",
        "\n",
        "We can pass our choices for optimizer, loss function and metrics as _strings_ to the `compile` function because `rmsprop`, `binary_crossentropy` and `accuracy` come packaged with Keras.\n",
        "\n",
        "```python\n",
        "model.complie(\n",
        "    optimizer='rmsprop',\n",
        "    loss = 'binary_crossentropy',\n",
        "    metrics = ['accuracy']\n",
        ")\n",
        "```\n",
        "\n",
        "One could use a customized loss function or ortimizer by passing the custom _class instance_ as argument to the `loss`, `optimizer` or `mertics` fields.\n",
        "\n",
        "In this example, we will implement our default choices, but, we will do so by passing class instances. This is exactly how we would do it, if we had customized parameters."
      ]
    },
    {
      "cell_type": "code",
      "execution_count": null,
      "metadata": {
        "id": "QE6539CKjKWI"
      },
      "outputs": [],
      "source": [
        "model.compile(\n",
        "    optimizer=optimizers.RMSprop(learning_rate=0.001),\n",
        "    loss = losses.binary_crossentropy,\n",
        "    metrics = [metrics.binary_accuracy]\n",
        ")"
      ]
    },
    {
      "cell_type": "markdown",
      "metadata": {
        "id": "BufUOjNSjKWI"
      },
      "source": [
        "## Setting up Validation\n",
        "\n",
        "We will set aside a part of our training data for _validation_ of the accuracy of the model as it trains. A _validation set_ enables us to monitor the progress of our model on previously unseen data as it goes throug epochs during training.\n",
        "\n",
        "Validation steps help us fine tune the training parameters of the `model.fit` function so as to avoid overfitting and under fitting of data."
      ]
    },
    {
      "cell_type": "code",
      "execution_count": null,
      "metadata": {
        "id": "eQy0FO-ijKWJ"
      },
      "outputs": [],
      "source": [
        "# Input for Validation\n",
        "X_val = X_train[:10000]\n",
        "partial_X_train = X_train[10000:]\n",
        "\n",
        "# Labels for validation\n",
        "y_val = y_train[:10000]\n",
        "partial_y_train = y_train[10000:]"
      ]
    },
    {
      "cell_type": "markdown",
      "metadata": {
        "id": "ZaB9sUabjKWJ"
      },
      "source": [
        "# Training our model"
      ]
    },
    {
      "cell_type": "markdown",
      "metadata": {
        "id": "nbeEiGeQjKWJ"
      },
      "source": [
        "Initially, we will train our models for 20 epochs in mini-batches of 512 samples. We will aslo pass our _validation set_ to the `fit` method.\n",
        "\n",
        "Calling the `fit` method returns a `History` object. This object contains a member `history` which stores all data  about the training process including the values of observable or monitored quantaties as the epochs proceed. We will save this object to better determine the fine tuning to be applied to the training step."
      ]
    },
    {
      "cell_type": "code",
      "execution_count": null,
      "metadata": {
        "colab": {
          "base_uri": "https://localhost:8080/"
        },
        "id": "NAFC567kjKWJ",
        "outputId": "9181d1bb-8d96-4c28-ffb4-a80f88ab658a"
      },
      "outputs": [
        {
          "output_type": "stream",
          "name": "stdout",
          "text": [
            "Epoch 1/20\n",
            "30/30 [==============================] - 4s 122ms/step - loss: 0.5351 - binary_accuracy: 0.7755 - val_loss: 0.4120 - val_binary_accuracy: 0.8689\n",
            "Epoch 2/20\n",
            "30/30 [==============================] - 1s 44ms/step - loss: 0.3454 - binary_accuracy: 0.8886 - val_loss: 0.3271 - val_binary_accuracy: 0.8838\n",
            "Epoch 3/20\n",
            "30/30 [==============================] - 2s 54ms/step - loss: 0.2577 - binary_accuracy: 0.9187 - val_loss: 0.2889 - val_binary_accuracy: 0.8891\n",
            "Epoch 4/20\n",
            "30/30 [==============================] - 1s 35ms/step - loss: 0.2083 - binary_accuracy: 0.9337 - val_loss: 0.3008 - val_binary_accuracy: 0.8799\n",
            "Epoch 5/20\n",
            "30/30 [==============================] - 1s 34ms/step - loss: 0.1728 - binary_accuracy: 0.9441 - val_loss: 0.2793 - val_binary_accuracy: 0.8868\n",
            "Epoch 6/20\n",
            "30/30 [==============================] - 1s 40ms/step - loss: 0.1490 - binary_accuracy: 0.9512 - val_loss: 0.2841 - val_binary_accuracy: 0.8852\n",
            "Epoch 7/20\n",
            "30/30 [==============================] - 1s 38ms/step - loss: 0.1282 - binary_accuracy: 0.9613 - val_loss: 0.2990 - val_binary_accuracy: 0.8844\n",
            "Epoch 8/20\n",
            "30/30 [==============================] - 2s 52ms/step - loss: 0.1093 - binary_accuracy: 0.9687 - val_loss: 0.3039 - val_binary_accuracy: 0.8790\n",
            "Epoch 9/20\n",
            "30/30 [==============================] - 1s 34ms/step - loss: 0.0948 - binary_accuracy: 0.9724 - val_loss: 0.3126 - val_binary_accuracy: 0.8802\n",
            "Epoch 10/20\n",
            "30/30 [==============================] - 2s 54ms/step - loss: 0.0806 - binary_accuracy: 0.9787 - val_loss: 0.3272 - val_binary_accuracy: 0.8796\n",
            "Epoch 11/20\n",
            "30/30 [==============================] - 2s 56ms/step - loss: 0.0714 - binary_accuracy: 0.9807 - val_loss: 0.3450 - val_binary_accuracy: 0.8812\n",
            "Epoch 12/20\n",
            "30/30 [==============================] - 2s 52ms/step - loss: 0.0570 - binary_accuracy: 0.9879 - val_loss: 0.3629 - val_binary_accuracy: 0.8770\n",
            "Epoch 13/20\n",
            "30/30 [==============================] - 2s 52ms/step - loss: 0.0483 - binary_accuracy: 0.9897 - val_loss: 0.3912 - val_binary_accuracy: 0.8765\n",
            "Epoch 14/20\n",
            "30/30 [==============================] - 2s 52ms/step - loss: 0.0430 - binary_accuracy: 0.9913 - val_loss: 0.4044 - val_binary_accuracy: 0.8760\n",
            "Epoch 15/20\n",
            "30/30 [==============================] - 1s 38ms/step - loss: 0.0336 - binary_accuracy: 0.9937 - val_loss: 0.4264 - val_binary_accuracy: 0.8730\n",
            "Epoch 16/20\n",
            "30/30 [==============================] - 1s 33ms/step - loss: 0.0264 - binary_accuracy: 0.9969 - val_loss: 0.4649 - val_binary_accuracy: 0.8681\n",
            "Epoch 17/20\n",
            "30/30 [==============================] - 1s 40ms/step - loss: 0.0231 - binary_accuracy: 0.9970 - val_loss: 0.4854 - val_binary_accuracy: 0.8684\n",
            "Epoch 18/20\n",
            "30/30 [==============================] - 1s 40ms/step - loss: 0.0185 - binary_accuracy: 0.9981 - val_loss: 0.4960 - val_binary_accuracy: 0.8730\n",
            "Epoch 19/20\n",
            "30/30 [==============================] - 1s 49ms/step - loss: 0.0171 - binary_accuracy: 0.9976 - val_loss: 0.5160 - val_binary_accuracy: 0.8717\n",
            "Epoch 20/20\n",
            "30/30 [==============================] - 1s 49ms/step - loss: 0.0104 - binary_accuracy: 0.9995 - val_loss: 0.5424 - val_binary_accuracy: 0.8704\n"
          ]
        }
      ],
      "source": [
        "history = model.fit(\n",
        "    partial_X_train,\n",
        "    partial_y_train,\n",
        "    epochs=20,\n",
        "    batch_size=512,\n",
        "    validation_data=(X_val, y_val)\n",
        ")"
      ]
    },
    {
      "cell_type": "markdown",
      "metadata": {
        "id": "jkLxCJIkjKWK"
      },
      "source": [
        "At the end of training we have attained a training accuracy of 99.85% and validation accuracy of 86.57%\n",
        "\n",
        "Now that we have trained our network, we will observe its performance metrics stored in the `History` object.\n",
        "\n",
        "Calling the `fit` method returns a `History` object. This object has an sttribute `history` which is a dictionary containing four enteries: one per monitored metric."
      ]
    },
    {
      "cell_type": "code",
      "execution_count": null,
      "metadata": {
        "colab": {
          "base_uri": "https://localhost:8080/"
        },
        "id": "QsCNP5IHjKWK",
        "outputId": "4fdf1930-1874-4b26-dc1e-fb4819c6d0e6"
      },
      "outputs": [
        {
          "output_type": "execute_result",
          "data": {
            "text/plain": [
              "dict_keys(['loss', 'binary_accuracy', 'val_loss', 'val_binary_accuracy'])"
            ]
          },
          "metadata": {},
          "execution_count": 17
        }
      ],
      "source": [
        "history_dict = history.history\n",
        "history_dict.keys()"
      ]
    },
    {
      "cell_type": "markdown",
      "metadata": {
        "id": "Ouqv8a_DjKWK"
      },
      "source": [
        "`history_dict` contains values of\n",
        "* Training loss\n",
        "* Trainining Accuracy\n",
        "* Validation Loss\n",
        "* Validation Accuracy\n",
        "\n",
        "at the end of each epoch.\n",
        "\n",
        "Let's use Matplotlib to plot Training and validation losses and Traing and Validation Accuracy side by side."
      ]
    },
    {
      "cell_type": "code",
      "execution_count": null,
      "metadata": {
        "colab": {
          "base_uri": "https://localhost:8080/",
          "height": 472
        },
        "id": "v-WAg3pijKWL",
        "outputId": "da85d82d-13b3-45fa-8892-07b25b621075"
      },
      "outputs": [
        {
          "output_type": "display_data",
          "data": {
            "text/plain": [
              "<Figure size 640x480 with 1 Axes>"
            ],
            "image/png": "[encoded data removed]"
          },
          "metadata": {}
        }
      ],
      "source": [
        "# Plotting losses\n",
        "loss_values = history_dict['loss']\n",
        "val_loss_values = history_dict['val_loss']\n",
        "\n",
        "epochs = range(1, len(loss_values) + 1)\n",
        "\n",
        "plt.plot(epochs, loss_values, 'g', label=\"Training Loss\")\n",
        "plt.plot(epochs, val_loss_values, 'b', label=\"Validation Loss\")\n",
        "\n",
        "plt.title('Training and Validation Loss')\n",
        "plt.xlabel('Epochs')\n",
        "plt.ylabel('Loss Value')\n",
        "plt.legend()\n",
        "\n",
        "plt.show()"
      ]
    },
    {
      "cell_type": "code",
      "execution_count": null,
      "metadata": {
        "colab": {
          "base_uri": "https://localhost:8080/",
          "height": 472
        },
        "id": "jKCYehqUjKWL",
        "outputId": "5307c877-52d0-4342-9dcb-c08474800de8"
      },
      "outputs": [
        {
          "output_type": "display_data",
          "data": {
            "text/plain": [
              "<Figure size 640x480 with 1 Axes>"
            ],
            "image/png": "[encoded data removed]"
          },
          "metadata": {}
        }
      ],
      "source": [
        "# Training and Validation Accuracy\n",
        "\n",
        "acc_values = history_dict['binary_accuracy']\n",
        "val_acc_values = history_dict['val_binary_accuracy']\n",
        "\n",
        "epochs = range(1, len(loss_values) + 1)\n",
        "\n",
        "plt.plot(epochs, acc_values, 'g', label=\"Training Accuracy\")\n",
        "plt.plot(epochs, val_acc_values, 'b', label=\"Validation Accuracy\")\n",
        "\n",
        "plt.title('Training and Validation Accuraccy')\n",
        "plt.xlabel('Epochs')\n",
        "plt.ylabel('Accuracy')\n",
        "plt.legend()\n",
        "\n",
        "plt.show()"
      ]
    },
    {
      "cell_type": "markdown",
      "metadata": {
        "id": "W4kzrC-TjKWb"
      },
      "source": [
        "We observe that _minimum validation loss_ and _maximum validation Accuracy_ is achived at around 3-5 epochs. After that we observe 2 trends:\n",
        "* increase in validation loss and decrese in training loss\n",
        "* decrease in validation accuracy and increase in training accuracy\n",
        "\n",
        "This implies that the model is getting better at classifying the sentiment of the training data, but making consistently worse predictions when it encounters new, previously unseed data. This is the hallmark of _Overfitting_. After the 5th epoch the model begins to fit too closely to the trainning data.\n",
        "\n",
        "To address overfitting, we will reduce the number of epochs to somewhere between 3 and 5. These results may vary depending on your machine and due to the very nature of the random assignment of weights that may vary from model to mode.\n",
        "\n",
        "In our case we will stop training after 3 epochs."
      ]
    },
    {
      "cell_type": "markdown",
      "metadata": {
        "id": "Udyii5QKjKWb"
      },
      "source": [
        "### Retraining our model"
      ]
    },
    {
      "cell_type": "code",
      "execution_count": null,
      "metadata": {
        "colab": {
          "base_uri": "https://localhost:8080/"
        },
        "id": "wI_-i48JjKWb",
        "outputId": "c14bddfb-7a0f-4cfe-d8d8-d89df4dbeffb"
      },
      "outputs": [
        {
          "output_type": "stream",
          "name": "stdout",
          "text": [
            "Epoch 1/3\n",
            "30/30 [==============================] - 2s 82ms/step - loss: 0.0126 - binary_accuracy: 0.9983 - val_loss: 0.5618 - val_binary_accuracy: 0.8695\n",
            "Epoch 2/3\n",
            "30/30 [==============================] - 1s 31ms/step - loss: 0.0095 - binary_accuracy: 0.9993 - val_loss: 0.5778 - val_binary_accuracy: 0.8703\n",
            "Epoch 3/3\n",
            "30/30 [==============================] - 1s 40ms/step - loss: 0.0102 - binary_accuracy: 0.9981 - val_loss: 0.5992 - val_binary_accuracy: 0.8698\n"
          ]
        },
        {
          "output_type": "execute_result",
          "data": {
            "text/plain": [
              "<keras.src.callbacks.History at 0x7d1fd0056b00>"
            ]
          },
          "metadata": {},
          "execution_count": 20
        }
      ],
      "source": [
        "model.fit(\n",
        "    partial_X_train,\n",
        "    partial_y_train,\n",
        "    epochs=3,\n",
        "    batch_size=512,\n",
        "    validation_data=(X_val, y_val)\n",
        ")"
      ]
    },
    {
      "cell_type": "markdown",
      "metadata": {
        "id": "5Sz1GGcYjKWb"
      },
      "source": [
        "In the end we achive a _training accuracy_ of 99% and a _validation accuray_ of 86%"
      ]
    },
    {
      "cell_type": "markdown",
      "metadata": {
        "id": "zTW3pVg_jKWc"
      },
      "source": [
        "## Model Evaluation"
      ]
    },
    {
      "cell_type": "code",
      "execution_count": null,
      "metadata": {
        "colab": {
          "base_uri": "https://localhost:8080/"
        },
        "id": "BdWyJd-tjKWc",
        "outputId": "8869ca17-894f-4225-82b7-e25367938b4e"
      },
      "outputs": [
        {
          "output_type": "stream",
          "name": "stdout",
          "text": [
            "782/782 [==============================] - 3s 3ms/step\n"
          ]
        }
      ],
      "source": [
        "# Making Predictions for testing data\n",
        "np.set_printoptions(suppress=True)\n",
        "result = model.predict(X_test)"
      ]
    },
    {
      "cell_type": "code",
      "execution_count": null,
      "metadata": {
        "colab": {
          "base_uri": "https://localhost:8080/"
        },
        "id": "t1EzayWyjKWc",
        "outputId": "b5872c15-5734-4d3c-8bfb-0150ed6ccaf4"
      },
      "outputs": [
        {
          "output_type": "execute_result",
          "data": {
            "text/plain": [
              "array([[0.00882666],\n",
              "       [0.9999989 ],\n",
              "       [0.541278  ],\n",
              "       ...,\n",
              "       [0.00085576],\n",
              "       [0.00451194],\n",
              "       [0.965041  ]], dtype=float32)"
            ]
          },
          "metadata": {},
          "execution_count": 22
        }
      ],
      "source": [
        "result"
      ]
    },
    {
      "cell_type": "code",
      "execution_count": null,
      "metadata": {
        "colab": {
          "base_uri": "https://localhost:8080/"
        },
        "id": "QWwayBiYjKWc",
        "outputId": "7da4ec15-e883-4cb0-c974-7e8c5a442e42"
      },
      "outputs": [
        {
          "output_type": "stream",
          "name": "stderr",
          "text": [
            "<ipython-input-23-d06888fff3d2>:3: DeprecationWarning: Conversion of an array with ndim > 0 to a scalar is deprecated, and will error in future. Ensure you extract a single element from your array before performing this operation. (Deprecated NumPy 1.25.)\n",
            "  y_pred[i] = np.round(score)\n"
          ]
        }
      ],
      "source": [
        "y_pred = np.zeros(len(result))\n",
        "for i, score in enumerate(result):\n",
        "    y_pred[i] = np.round(score)"
      ]
    },
    {
      "cell_type": "code",
      "execution_count": null,
      "metadata": {
        "colab": {
          "base_uri": "https://localhost:8080/"
        },
        "id": "YGn24q1ZjKWc",
        "outputId": "664372ee-0882-4584-cd2a-52daee79650b"
      },
      "outputs": [
        {
          "output_type": "execute_result",
          "data": {
            "text/plain": [
              "<tf.Tensor: shape=(), dtype=float32, numpy=0.14032>"
            ]
          },
          "metadata": {},
          "execution_count": 24
        }
      ],
      "source": [
        "mae = metrics.mean_absolute_error(y_pred, y_test)\n",
        "mae"
      ]
    },
    {
      "cell_type": "code",
      "source": [
        "from keras.preprocessing.sequence import pad_sequences\n",
        "def predict_sentiment(model, review, word_index, maxlen):\n",
        "    # Convert the review text to a sequence of integers using the word_index\n",
        "    sequence = [word_index[word] if word in word_index and word_index[word] < 10000 else 0 for word in review.split()]\n",
        "    # Pad the sequence to ensure it has the same length as the input data\n",
        "    padded_sequence = pad_sequences([sequence], maxlen=maxlen)\n",
        "    # Predict the sentiment of the review\n",
        "    score = model.predict(padded_sequence)\n",
        "    # Determine the sentiment based on the score\n",
        "    sentiment = \"Positive\" if score >= 0.5 else \"Negative\"\n",
        "    return sentiment\n",
        "\n",
        "maxlen = 10000\n",
        "# Example usage\n",
        "#review = \"This movie was excellent! The performances were outstanding.\"\n",
        "review = \"This movie was terrible! The acting was awful and the plot made no sense.\"\n",
        "print(predict_sentiment(model, review, word_index, maxlen))"
      ],
      "metadata": {
        "colab": {
          "base_uri": "https://localhost:8080/"
        },
        "id": "-cjwyytMkI4N",
        "outputId": "5f06dfdd-02d9-472f-b65d-1198e53f772a"
      },
      "execution_count": null,
      "outputs": [
        {
          "output_type": "stream",
          "name": "stdout",
          "text": [
            "1/1 [==============================] - 0s 95ms/step\n",
            "Negative\n"
          ]
        }
      ]
    }
  ],
  "metadata": {
    "kernelspec": {
      "display_name": "Python 3 (ipykernel)",
      "language": "python",
      "name": "python3"
    },
    "language_info": {
      "codemirror_mode": {
        "name": "ipython",
        "version": 3
      },
      "file_extension": ".py",
      "mimetype": "text/x-python",
      "name": "python",
      "nbconvert_exporter": "python",
      "pygments_lexer": "ipython3",
      "version": "3.10.11"
    },
    "colab": {
      "provenance": []
    }
  },
  "nbformat": 4,
  "nbformat_minor": 0
}